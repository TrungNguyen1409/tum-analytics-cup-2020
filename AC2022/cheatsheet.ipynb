{
 "cells": [
  {
   "cell_type": "code",
   "execution_count": null,
   "metadata": {},
   "outputs": [],
   "source": [
    "import pandas as pd\n",
    "\n",
    "# Load all datasets\n",
    "customers = pd.read_csv('customers.csv')\n",
    "transactions = pd.read_csv('transactions.csv')\n",
    "geo = pd.read_csv('geo.csv')\n",
    "\n",
    "\n",
    "print(customers['CUSTOMER'].nunique())  # Unique customers\n",
    "print(transactions['CUSTOMER'].nunique())  # Customers in transactions\n"
   ]
  },
  {
   "cell_type": "code",
   "execution_count": null,
   "metadata": {},
   "outputs": [],
   "source": [
    "merged_data = transactions.merge(customers, on='CUSTOMER', how='left')\n",
    "final_data = merged_data.merge(geo, on='SALES_LOCATION', how='left')\n",
    "\n",
    "\n"
   ]
  },
  {
   "cell_type": "markdown",
   "metadata": {},
   "source": [
    "# EASY FILLNA (fill na according to id on another sheet template)"
   ]
  },
  {
   "cell_type": "code",
   "execution_count": null,
   "metadata": {},
   "outputs": [],
   "source": [
    "for col in final_data.select_dtypes(include=['object', 'category']):\n",
    "    final_data[col] = final_data[col].fillna(final_data[col].mode()[0])\n",
    "\n",
    "for col in final_data.select_dtypes(include=['float', 'int']):\n",
    "    final_data[col] = final_data[col].fillna(final_data[col].median())\n"
   ]
  },
  {
   "cell_type": "code",
   "execution_count": null,
   "metadata": {},
   "outputs": [],
   "source": [
    "#Extract day, month, year, and weekday from dates like MO_CREATED_DATE and SO_CREATED_DATE.\n",
    "final_data['SO_CREATED_DATE'] = pd.to_datetime(final_data['SO_CREATED_DATE'])\n",
    "final_data['creation_year'] = final_data['SO_CREATED_DATE'].dt.year\n",
    "final_data['creation_month'] = final_data['SO_CREATED_DATE'].dt.month\n",
    "\n",
    "#Create derived features like OFFER_PRICE / SERVICE_LIST_PRICE or MATERIAL_COST / OFFER_PRICE.\n",
    "final_data['price_ratio'] = final_data['OFFER_PRICE'] / final_data['SERVICE_LIST_PRICE']\n",
    "final_data['cost_ratio'] = final_data['MATERIAL_COST'] / final_data['OFFER_PRICE']\n",
    "\n",
    "\n",
    "#Convert OFFER_STATUS to integers (0 or 1).\n",
    "final_data['OFFER_STATUS'] = final_data['OFFER_STATUS'].map({'accepted': 1, 'rejected': 0})\n"
   ]
  },
  {
   "cell_type": "code",
   "execution_count": null,
   "metadata": {},
   "outputs": [],
   "source": []
  }
 ],
 "metadata": {
  "kernelspec": {
   "display_name": "base",
   "language": "python",
   "name": "python3"
  },
  "language_info": {
   "codemirror_mode": {
    "name": "ipython",
    "version": 3
   },
   "file_extension": ".py",
   "mimetype": "text/x-python",
   "name": "python",
   "nbconvert_exporter": "python",
   "pygments_lexer": "ipython3",
   "version": "3.11.7"
  }
 },
 "nbformat": 4,
 "nbformat_minor": 2
}
