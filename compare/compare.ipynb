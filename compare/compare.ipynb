{
 "cells": [
  {
   "cell_type": "code",
   "execution_count": null,
   "metadata": {},
   "outputs": [],
   "source": []
  },
  {
   "cell_type": "code",
   "execution_count": null,
   "metadata": {},
   "outputs": [],
   "source": []
  },
  {
   "cell_type": "code",
   "execution_count": 3,
   "metadata": {},
   "outputs": [],
   "source": [
    "import pandas as pd\n",
    "import numpy as np\n",
    "from sklearn.metrics import accuracy_score, confusion_matrix, classification_report\n"
   ]
  },
  {
   "cell_type": "code",
   "execution_count": 9,
   "metadata": {},
   "outputs": [],
   "source": [
    "trung = pd.read_csv(\"submission.csv\")\n",
    "van = pd.read_csv(\"pred_test.csv\")"
   ]
  },
  {
   "cell_type": "code",
   "execution_count": 11,
   "metadata": {},
   "outputs": [
    {
     "name": "stdout",
     "output_type": "stream",
     "text": [
      "Direct Match Percentage: 85.87%\n",
      "Accuracy Score: 0.8587\n",
      "Confusion Matrix:\n",
      "[[20714  3192]\n",
      " [ 3874 22220]]\n",
      "Classification Report:\n",
      "              precision    recall  f1-score   support\n",
      "\n",
      "           0       0.84      0.87      0.85     23906\n",
      "           1       0.87      0.85      0.86     26094\n",
      "\n",
      "    accuracy                           0.86     50000\n",
      "   macro avg       0.86      0.86      0.86     50000\n",
      "weighted avg       0.86      0.86      0.86     50000\n",
      "\n",
      "Hamming Distance (Differences Count): 7066\n"
     ]
    }
   ],
   "source": [
    "import pandas as pd\n",
    "from sklearn.metrics import accuracy_score, confusion_matrix, classification_report\n",
    "\n",
    "# Load the two files\n",
    "file1 = pd.read_csv('submission.csv')   # Replace with your path\n",
    "file2 = pd.read_csv('pred_test.csv')    # Replace with your path\n",
    "\n",
    "# Merge the two files on 'ID'\n",
    "merged = pd.merge(file1, file2, on='ID', suffixes=('_true', '_pred'))\n",
    "\n",
    "# Extract actual and predicted values\n",
    "y_true = merged['is_rush_hour']\n",
    "y_pred = merged['pred'].astype(int)  # Ensure predictions are integers\n",
    "\n",
    "# 1. Direct Match Percentage\n",
    "match_percentage = (y_true == y_pred).mean() * 100\n",
    "print(f\"Direct Match Percentage: {match_percentage:.2f}%\")\n",
    "\n",
    "# 2. Accuracy Score\n",
    "accuracy = accuracy_score(y_true, y_pred)\n",
    "print(f\"Accuracy Score: {accuracy:.4f}\")\n",
    "\n",
    "# 3. Confusion Matrix\n",
    "conf_matrix = confusion_matrix(y_true, y_pred)\n",
    "print(\"Confusion Matrix:\")\n",
    "print(conf_matrix)\n",
    "\n",
    "# 4. Classification Report\n",
    "print(\"Classification Report:\")\n",
    "print(classification_report(y_true, y_pred))\n",
    "\n",
    "# 5. Hamming Distance (Count of Mismatches)\n",
    "hamming_distance = (y_true != y_pred).sum()\n",
    "print(f\"Hamming Distance (Differences Count): {hamming_distance}\")"
   ]
  },
  {
   "cell_type": "code",
   "execution_count": null,
   "metadata": {},
   "outputs": [],
   "source": []
  }
 ],
 "metadata": {
  "kernelspec": {
   "display_name": "base",
   "language": "python",
   "name": "python3"
  },
  "language_info": {
   "codemirror_mode": {
    "name": "ipython",
    "version": 3
   },
   "file_extension": ".py",
   "mimetype": "text/x-python",
   "name": "python",
   "nbconvert_exporter": "python",
   "pygments_lexer": "ipython3",
   "version": "3.11.7"
  }
 },
 "nbformat": 4,
 "nbformat_minor": 2
}
